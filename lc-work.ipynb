{
 "cells": [
  {
   "cell_type": "code",
   "execution_count": 10,
   "metadata": {
    "collapsed": false
   },
   "outputs": [],
   "source": [
    "import pandas as pd\n",
    "import numpy as np\n",
    "import matplotlib.pyplot as plt\n",
    "import seaborn as sns\n",
    "import random\n",
    "import math\n",
    "from scipy.interpolate import UnivariateSpline\n",
    "import pickle\n",
    "%matplotlib inline\n",
    "import dill\n",
    "import warnings\n",
    "\n",
    "warnings.filterwarnings(\"ignore\",category=DeprecationWarning)\n",
    "dill.settings['recurse']=True"
   ]
  },
  {
   "cell_type": "code",
   "execution_count": null,
   "metadata": {
    "collapsed": true
   },
   "outputs": [],
   "source": []
  },
  {
   "cell_type": "code",
   "execution_count": 15,
   "metadata": {
    "collapsed": false
   },
   "outputs": [
    {
     "data": {
      "text/plain": [
       "(92964, 82)"
      ]
     },
     "execution_count": 15,
     "metadata": {},
     "output_type": "execute_result"
    }
   ],
   "source": [
    "# play with 2013 subset\n",
    "f=open('../../python_code/loans_df','r')\n",
    "loans = pickle.load(f)\n",
    "f.close()\n",
    "loans = loans.loc[loans['year']<=2012]\n",
    "\n",
    "loans.shape"
   ]
  },
  {
   "cell_type": "code",
   "execution_count": 21,
   "metadata": {
    "collapsed": false
   },
   "outputs": [
    {
     "data": {
      "text/plain": [
       "(55546, 82)"
      ]
     },
     "execution_count": 21,
     "metadata": {},
     "output_type": "execute_result"
    }
   ],
   "source": []
  },
  {
   "cell_type": "code",
   "execution_count": 7,
   "metadata": {
    "collapsed": true
   },
   "outputs": [],
   "source": [
    "from sklearn import preprocessing\n",
    "def encodeColumns(df,colNames):\n",
    "    encs ={}\n",
    "    for i in colNames:\n",
    "        enc=preprocessing.LabelEncoder()\n",
    "        enc.fit(df[i])\n",
    "        df[\"enc_\"+i]=enc.transform(df[i])\n",
    "        encs[i] = enc\n",
    "    return df, encs\n",
    "    \n",
    "#encode verification, homeOwnership, purpose\n",
    "toEncode = ['verification_status','home_ownership','purpose','grade','sub_grade','Renewable']\n",
    "df, encodings = encodeColumns(loans,toEncode)"
   ]
  },
  {
   "cell_type": "code",
   "execution_count": 11,
   "metadata": {
    "collapsed": false
   },
   "outputs": [],
   "source": [
    "from sklearn.linear_model import LinearRegression\n",
    "from sklearn.preprocessing import StandardScaler\n",
    "from sklearn.pipeline import Pipeline\n",
    "scaler = StandardScaler()\n",
    "\n",
    "#[float(l[:-1])/100 for l in loans.revol_util]\n",
    "loans.revol_util=loans.revol_util.apply(lambda x:float(str(x).strip('%')))\n",
    "loans= loans[np.isfinite(loans.revol_util)]\n",
    "X=np.array(loans[['enc_grade','enc_sub_grade','dti','revol_util']])\n",
    "\n",
    "LR = LinearRegression()\n",
    "loans['total_rec_prct']=loans.total_pymnt_inv/loans.funded_amnt\n",
    "y=np.array(loans.total_rec_prct)\n",
    "\n",
    "pipeline = Pipeline([('scaler',StandardScaler()),\n",
    "                    ('regressor',LinearRegression())])\n",
    "pipeline.fit(X,y)\n",
    "pipeline.predict(X[1])[0]\n",
    "\n",
    "f= open('simpleLoanModelLR','wb')\n",
    "pickle.dump(pipeline,f)\n",
    "f.close()\n",
    "f=open('dillModelsAndEncoders','wb')\n",
    "dill.dump({'pipeline':pipeline,'encodings':encodings},f)\n",
    "f.close()"
   ]
  },
  {
   "cell_type": "code",
   "execution_count": 9,
   "metadata": {
    "collapsed": false
   },
   "outputs": [
    {
     "name": "stdout",
     "output_type": "stream",
     "text": [
      "12.08%\n"
     ]
    },
    {
     "name": "stderr",
     "output_type": "stream",
     "text": [
      "/Users/Mikebo/miniconda2/lib/python2.7/site-packages/sklearn/preprocessing/data.py:646: DeprecationWarning: Passing 1d arrays as data is deprecated in 0.17 and will raise ValueError in 0.19. Reshape your data either using X.reshape(-1, 1) if your data has a single feature or X.reshape(1, -1) if it contains a single sample.\n",
      "  warnings.warn(DEPRECATION_MSG_1D, DeprecationWarning)\n",
      "/Users/Mikebo/miniconda2/lib/python2.7/site-packages/sklearn/utils/validation.py:386: DeprecationWarning: Passing 1d arrays as data is deprecated in 0.17 and willraise ValueError in 0.19. Reshape your data either using X.reshape(-1, 1) if your data has a single feature or X.reshape(1, -1) if it contains a single sample.\n",
      "  DeprecationWarning)\n"
     ]
    }
   ],
   "source": [
    "f=open('dillModelsAndEncoders','r')\n",
    "dct= dill.load(f)\n",
    "mdl_=dct['pipeline']\n",
    "encodings=dct['encodings']\n",
    "grade = 'A'\n",
    "subGrade = '2'\n",
    "x=[encodings['grade'].transform(grade),encodings['sub_grade'].transform(grade+subGrade),1,70]\n",
    "ret=mdl_.predict(x)[0]-1\n",
    "prc_return=\"{0:.2f}\".format(ret*100)+'%'\n",
    "print prc_return"
   ]
  },
  {
   "cell_type": "code",
   "execution_count": 14,
   "metadata": {
    "collapsed": false
   },
   "outputs": [
    {
     "data": {
      "text/plain": [
       "array([' 36 months', ' 60 months'], dtype=object)"
      ]
     },
     "execution_count": 14,
     "metadata": {},
     "output_type": "execute_result"
    }
   ],
   "source": [
    "np.unique(loans.term)"
   ]
  },
  {
   "cell_type": "code",
   "execution_count": null,
   "metadata": {
    "collapsed": true
   },
   "outputs": [],
   "source": []
  }
 ],
 "metadata": {
  "kernelspec": {
   "display_name": "Python 2",
   "language": "python",
   "name": "python2"
  },
  "language_info": {
   "codemirror_mode": {
    "name": "ipython",
    "version": 2
   },
   "file_extension": ".py",
   "mimetype": "text/x-python",
   "name": "python",
   "nbconvert_exporter": "python",
   "pygments_lexer": "ipython2",
   "version": "2.7.11"
  }
 },
 "nbformat": 4,
 "nbformat_minor": 0
}
